{
 "cells": [
  {
   "cell_type": "markdown",
   "metadata": {},
   "source": [
    "# DSI19 Project 4 - Model Selection and Evaluation\n",
    "---"
   ]
  },
  {
   "cell_type": "markdown",
   "metadata": {},
   "source": [
    "## Table of Contents\n",
    "\n",
    "* [1. Modeling Strategy](#chapter1)\n",
    "* [2. Data Preparation](#chapter2)\n",
    "    * [2.1 Dealing with Categorical Variables](#chapter2_1)\n",
    "    * [2.2 Split into Train/Validation/Test Data](#chapter2_2)\n",
    "    * [2.3 Scaling the Data](#chapter2_3)\n",
    "* [3. Establishing Baseline](#chapter3)\n",
    "* [4. Fit and Evaluate Models](#chapter4)\n",
    "    * [4.1 Cross Validation Scores](#chapter4_1)\n",
    "    * [4.2 Tuning Hyperparameters](#chapter4_2)\n",
    "    * [4.3 Refit Model and Evaluate Test Data](#chapter4_3)\n",
    "* [5. Kaggle Submissions](#chapter5)\n",
    "* [6. Cost Benefit Analysis](#chapter6)\n",
    "    * [6.1 Assumptions](#chapter6_1)\n",
    "    * [6.2 Spray Costs](#chapter6_2)\n",
    "    * [6.3 Economic Loss of Activity](#chapter6_3)\n",
    "    * [6.4 Medical Costs](#chapter6_4)\n",
    "    * [6.5 Cost Benefit Analysis](#chapter6_5)\n",
    "    * [6.6 Conclusion](#chapter6_6)\n",
    "* [7. Key Takeaways and Recommendations](#chapter7)"
   ]
  },
  {
   "cell_type": "code",
   "execution_count": 305,
   "metadata": {},
   "outputs": [],
   "source": [
    "import numpy as np\n",
    "import pandas as pd\n",
    "import matplotlib.pyplot as plt\n",
    "import seaborn as sns\n",
    "\n",
    "from sklearn.preprocessing import OneHotEncoder, StandardScaler\n",
    "from sklearn.model_selection import train_test_split, cross_val_score, GridSearchCV\n",
    "from sklearn.linear_model import LogisticRegression\n",
    "from sklearn.neighbors import KNeighborsClassifier\n",
    "from sklearn.tree import DecisionTreeClassifier\n",
    "from sklearn.ensemble import BaggingClassifier, RandomForestClassifier, AdaBoostClassifier\n",
    "from sklearn.svm import SVC\n",
    "from sklearn.metrics import confusion_matrix, roc_auc_score, roc_curve"
   ]
  },
  {
   "cell_type": "code",
   "execution_count": 306,
   "metadata": {},
   "outputs": [],
   "source": [
    "train = pd.read_csv('../data/model_train.csv')\n",
    "kaggle_test = pd.read_csv('../data/model_test.csv')"
   ]
  },
  {
   "cell_type": "markdown",
   "metadata": {},
   "source": [
    "## 1. Modeling Strategy <a class=\"anchor\" id=\"chapter1\"></a>\n",
    "---\n",
    "The model aims to predict WNV positivity with `1` indicating presence of WNV and `0` indicating no presence of WNV. This makes it a classification problem. Classification models to be tested are:\n",
    "\n",
    "- Logistic Regression\n",
    "- K Nearest Neighbors\n",
    "- Decision Trees\n",
    "- Bagged Decision Trees\n",
    "- Random Forest\n",
    "- Adaboost Classifier\n",
    "- Support Vector Classifier\n",
    "\n",
    "Before running the data on the models, the train data set will be split into training/testing/validation for evaluation purposes."
   ]
  },
  {
   "cell_type": "markdown",
   "metadata": {},
   "source": [
    "## 2. Data Preparation <a class=\"anchor\" id=\"chapter2\"></a>\n",
    "---\n"
   ]
  },
  {
   "cell_type": "code",
   "execution_count": 307,
   "metadata": {},
   "outputs": [
    {
     "data": {
      "text/html": [
       "<div>\n",
       "<style scoped>\n",
       "    .dataframe tbody tr th:only-of-type {\n",
       "        vertical-align: middle;\n",
       "    }\n",
       "\n",
       "    .dataframe tbody tr th {\n",
       "        vertical-align: top;\n",
       "    }\n",
       "\n",
       "    .dataframe thead th {\n",
       "        text-align: right;\n",
       "    }\n",
       "</style>\n",
       "<table border=\"1\" class=\"dataframe\">\n",
       "  <thead>\n",
       "    <tr style=\"text-align: right;\">\n",
       "      <th></th>\n",
       "      <th>Species</th>\n",
       "      <th>Latitude</th>\n",
       "      <th>Longitude</th>\n",
       "      <th>Tavg</th>\n",
       "      <th>PrecipTotal</th>\n",
       "      <th>DewPoint</th>\n",
       "      <th>R_Humid</th>\n",
       "      <th>day</th>\n",
       "      <th>month</th>\n",
       "      <th>year</th>\n",
       "      <th>loc_weight</th>\n",
       "      <th>WnvPresent</th>\n",
       "    </tr>\n",
       "  </thead>\n",
       "  <tbody>\n",
       "    <tr>\n",
       "      <th>0</th>\n",
       "      <td>CULEX PIPIENS/RESTUANS</td>\n",
       "      <td>41.867108</td>\n",
       "      <td>-87.654224</td>\n",
       "      <td>68.714286</td>\n",
       "      <td>0.108571</td>\n",
       "      <td>50.928571</td>\n",
       "      <td>53.064667</td>\n",
       "      <td>29</td>\n",
       "      <td>5</td>\n",
       "      <td>2007</td>\n",
       "      <td>0.0</td>\n",
       "      <td>0</td>\n",
       "    </tr>\n",
       "    <tr>\n",
       "      <th>1</th>\n",
       "      <td>CULEX RESTUANS</td>\n",
       "      <td>41.867108</td>\n",
       "      <td>-87.654224</td>\n",
       "      <td>68.714286</td>\n",
       "      <td>0.108571</td>\n",
       "      <td>50.928571</td>\n",
       "      <td>53.064667</td>\n",
       "      <td>29</td>\n",
       "      <td>5</td>\n",
       "      <td>2007</td>\n",
       "      <td>0.0</td>\n",
       "      <td>0</td>\n",
       "    </tr>\n",
       "    <tr>\n",
       "      <th>2</th>\n",
       "      <td>CULEX RESTUANS</td>\n",
       "      <td>41.862292</td>\n",
       "      <td>-87.648860</td>\n",
       "      <td>68.714286</td>\n",
       "      <td>0.108571</td>\n",
       "      <td>50.928571</td>\n",
       "      <td>53.064667</td>\n",
       "      <td>29</td>\n",
       "      <td>5</td>\n",
       "      <td>2007</td>\n",
       "      <td>0.0</td>\n",
       "      <td>0</td>\n",
       "    </tr>\n",
       "    <tr>\n",
       "      <th>3</th>\n",
       "      <td>CULEX RESTUANS</td>\n",
       "      <td>41.896282</td>\n",
       "      <td>-87.655232</td>\n",
       "      <td>68.714286</td>\n",
       "      <td>0.108571</td>\n",
       "      <td>50.928571</td>\n",
       "      <td>53.064667</td>\n",
       "      <td>29</td>\n",
       "      <td>5</td>\n",
       "      <td>2007</td>\n",
       "      <td>0.0</td>\n",
       "      <td>0</td>\n",
       "    </tr>\n",
       "    <tr>\n",
       "      <th>4</th>\n",
       "      <td>CULEX RESTUANS</td>\n",
       "      <td>41.907645</td>\n",
       "      <td>-87.760886</td>\n",
       "      <td>68.714286</td>\n",
       "      <td>0.108571</td>\n",
       "      <td>50.928571</td>\n",
       "      <td>53.064667</td>\n",
       "      <td>29</td>\n",
       "      <td>5</td>\n",
       "      <td>2007</td>\n",
       "      <td>0.0</td>\n",
       "      <td>0</td>\n",
       "    </tr>\n",
       "  </tbody>\n",
       "</table>\n",
       "</div>"
      ],
      "text/plain": [
       "                  Species   Latitude  Longitude       Tavg  PrecipTotal  \\\n",
       "0  CULEX PIPIENS/RESTUANS  41.867108 -87.654224  68.714286     0.108571   \n",
       "1          CULEX RESTUANS  41.867108 -87.654224  68.714286     0.108571   \n",
       "2          CULEX RESTUANS  41.862292 -87.648860  68.714286     0.108571   \n",
       "3          CULEX RESTUANS  41.896282 -87.655232  68.714286     0.108571   \n",
       "4          CULEX RESTUANS  41.907645 -87.760886  68.714286     0.108571   \n",
       "\n",
       "    DewPoint    R_Humid  day  month  year  loc_weight  WnvPresent  \n",
       "0  50.928571  53.064667   29      5  2007         0.0           0  \n",
       "1  50.928571  53.064667   29      5  2007         0.0           0  \n",
       "2  50.928571  53.064667   29      5  2007         0.0           0  \n",
       "3  50.928571  53.064667   29      5  2007         0.0           0  \n",
       "4  50.928571  53.064667   29      5  2007         0.0           0  "
      ]
     },
     "metadata": {},
     "output_type": "display_data"
    }
   ],
   "source": [
    "display(train.head())"
   ]
  },
  {
   "cell_type": "markdown",
   "metadata": {},
   "source": [
    "### 2.1 Dealing with Categorical Variables <a class=\"anchor\" id=\"chapter2_1\"></a>"
   ]
  },
  {
   "cell_type": "code",
   "execution_count": 308,
   "metadata": {},
   "outputs": [],
   "source": [
    "# Get dummies on train and kaggle test data set\n",
    "train = train.join(pd.get_dummies(train['Species'],drop_first=True))\n",
    "train.drop('Species',axis='columns',inplace=True)\n",
    "\n",
    "kaggle_test = kaggle_test.join(pd.get_dummies(kaggle_test['Species'],drop_first=True))\n",
    "kaggle_test.drop('Species',axis='columns',inplace=True)"
   ]
  },
  {
   "cell_type": "code",
   "execution_count": 309,
   "metadata": {},
   "outputs": [
    {
     "name": "stdout",
     "output_type": "stream",
     "text": [
      "Index(['Latitude', 'Longitude', 'Tavg', 'PrecipTotal', 'DewPoint', 'R_Humid',\n",
      "       'day', 'month', 'year', 'loc_weight', 'WnvPresent', 'CULEX PIPIENS',\n",
      "       'CULEX PIPIENS/RESTUANS', 'CULEX RESTUANS', 'CULEX SALINARIUS',\n",
      "       'CULEX TARSALIS', 'CULEX TERRITANS'],\n",
      "      dtype='object')\n",
      "(8475, 17)\n",
      "Index(['Id', 'Latitude', 'Longitude', 'Tavg', 'PrecipTotal', 'DewPoint',\n",
      "       'R_Humid', 'day', 'month', 'year', 'loc_weight', 'CULEX PIPIENS',\n",
      "       'CULEX PIPIENS/RESTUANS', 'CULEX RESTUANS', 'CULEX SALINARIUS',\n",
      "       'CULEX TARSALIS', 'CULEX TERRITANS', 'UNSPECIFIED CULEX'],\n",
      "      dtype='object')\n",
      "(116293, 18)\n"
     ]
    }
   ],
   "source": [
    "# Check columns and shape to ensure they are they same columns\n",
    "print(train.columns)\n",
    "print(train.shape)\n",
    "print(kaggle_test.columns)\n",
    "print(kaggle_test.shape)"
   ]
  },
  {
   "cell_type": "code",
   "execution_count": 310,
   "metadata": {},
   "outputs": [],
   "source": [
    "# Drop additional species data from test set to ensure same columns with train data\n",
    "kaggle_test.drop('UNSPECIFIED CULEX', axis='columns', inplace=True)"
   ]
  },
  {
   "cell_type": "markdown",
   "metadata": {},
   "source": [
    "### 2.2 Split into Train/Validation/Test Data <a class=\"anchor\" id=\"chapter2_2\"></a>"
   ]
  },
  {
   "cell_type": "code",
   "execution_count": 311,
   "metadata": {},
   "outputs": [],
   "source": [
    "# Specify X and y variables\n",
    "X = train[[col for col in train.columns if col not in ['WnvPresent']]]\n",
    "y = train['WnvPresent']"
   ]
  },
  {
   "cell_type": "code",
   "execution_count": 312,
   "metadata": {},
   "outputs": [],
   "source": [
    "# Train test split to split into sample and test data sets\n",
    "X_sample, X_test, y_sample, y_test = train_test_split(X, y, shuffle=True, stratify=y, random_state=42)\n",
    "\n",
    "# Train test split to split sample into train and validation data sets\n",
    "X_train, X_val, y_train, y_val = train_test_split(X_sample, y_sample, shuffle=True, stratify=y_sample, random_state=42)"
   ]
  },
  {
   "cell_type": "markdown",
   "metadata": {},
   "source": [
    "### 2.3 Scaling the Data <a class=\"anchor\" id=\"chapter2_3\"></a>"
   ]
  },
  {
   "cell_type": "code",
   "execution_count": 313,
   "metadata": {},
   "outputs": [],
   "source": [
    "# Instantiate scalar\n",
    "ss = StandardScaler()\n",
    "\n",
    "# Fit and transform X_train\n",
    "X_train_ss = ss.fit_transform(X_train)\n",
    "# Transform X_val\n",
    "X_val_ss = ss.transform(X_val)"
   ]
  },
  {
   "cell_type": "markdown",
   "metadata": {},
   "source": [
    "## 3. Establishing Baseline <a class=\"anchor\" id=\"chapter3\"></a>\n",
    "---\n",
    "For the baseline, we will be using a vanilla Logistic Regression model. This baseline score will be used as a benchmark against other models for evaluation purposes."
   ]
  },
  {
   "cell_type": "code",
   "execution_count": 314,
   "metadata": {},
   "outputs": [
    {
     "name": "stdout",
     "output_type": "stream",
     "text": [
      "Cross validation score: 0.8154502479825293.\n",
      "ROC AUC score on train set: 0.8227673910980354.\n",
      "ROC AUC score on test set: 0.7703662442556747.\n"
     ]
    }
   ],
   "source": [
    "# Instantiate vanilla logistic regression model\n",
    "lr = LogisticRegression()\n",
    "# Fit the model\n",
    "lr.fit(X_train_ss, y_train)\n",
    "\n",
    "# Getting the cross val score, prediction on train and test sets, and ROC AUC scores for train and test sets\n",
    "cvs = cross_val_score(lr, X_train_ss, y_train, cv=5, scoring='roc_auc').mean()\n",
    "preds_train = lr.predict_proba(X_train_ss)[:,1]\n",
    "preds_val = lr.predict_proba(X_val_ss)[:,1]\n",
    "roc_train = roc_auc_score(y_train, preds_train)\n",
    "roc_val = roc_auc_score(y_val, preds_val)\n",
    "\n",
    "print(f\"Cross validation score: {cvs}.\")\n",
    "print(f\"ROC AUC score on train set: {roc_train}.\")\n",
    "print(f\"ROC AUC score on test set: {roc_val}.\")"
   ]
  },
  {
   "cell_type": "code",
   "execution_count": 315,
   "metadata": {},
   "outputs": [],
   "source": [
    "# Function for plotting ROC AUC curve\n",
    "def plot_rocauc(true,preds):\n",
    "    # Get false positive rate and true positive rate\n",
    "    fpr, tpr, threshold = roc_curve(true, preds)\n",
    "\n",
    "    plt.figure(figsize=(12,8))\n",
    "\n",
    "    plt.plot(fpr, # False Positive Rate on X-axis\n",
    "             tpr, # True Positive Rate on Y-axis\n",
    "             label='ROC Curve')\n",
    "\n",
    "    # Plot baseline. (Perfect overlap between the two populations.)\n",
    "    plt.plot(np.linspace(0, 1, 200),\n",
    "             np.linspace(0, 1, 200),\n",
    "             label='baseline',\n",
    "             linestyle='--')\n",
    "\n",
    "    # Label axes.\n",
    "    plt.title(f\"ROC Curve with AUC = {round(roc_auc_score(true,preds),5)}\", fontsize=15)\n",
    "    plt.ylabel('Sensitivity', fontsize=12)\n",
    "    plt.xlabel('1 - Specificity', fontsize=12)\n",
    "\n",
    "    # Create legend.\n",
    "    plt.legend(fontsize=12);"
   ]
  },
  {
   "cell_type": "code",
   "execution_count": 316,
   "metadata": {},
   "outputs": [
    {
     "data": {
      "image/png": "[encoded data removed]",
      "text/plain": [
       "<Figure size 864x576 with 1 Axes>"
      ]
     },
     "metadata": {
      "needs_background": "light"
     },
     "output_type": "display_data"
    }
   ],
   "source": [
    "plot_rocauc(y_val, preds_val)"
   ]
  },
  {
   "cell_type": "markdown",
   "metadata": {},
   "source": [
    "The ROC AUC score obtained by a vanilla logistic regression model is around 0.80. We will aim to develop models to achieve ROC AUC of > 0.80."
   ]
  },
  {
   "cell_type": "markdown",
   "metadata": {},
   "source": [
    "## 4. Fit and Evaluate Models <a class=\"anchor\" id=\"chapter4\"></a>\n",
    "---\n",
    "\n",
    "Classification models that we will be evaluating are:\n",
    "- Logistic Regression\n",
    "- K Nearest Neighbors\n",
    "- Decision Trees\n",
    "- Bagged Decision Trees\n",
    "- Random Forest\n",
    "- Adaboost Classifier\n",
    "- Support Vector Classifier\n"
   ]
  },
  {
   "cell_type": "markdown",
   "metadata": {},
   "source": [
    "### 4.1 Cross Validation Scores <a class=\"anchor\" id=\"chapter4_1\"></a>"
   ]
  },
  {
   "cell_type": "code",
   "execution_count": 317,
   "metadata": {},
   "outputs": [],
   "source": [
    "# Instantiating classification models\n",
    "lr = LogisticRegression()\n",
    "knn = KNeighborsClassifier()\n",
    "dt = DecisionTreeClassifier()\n",
    "bagging = BaggingClassifier()\n",
    "rand_forest = RandomForestClassifier()\n",
    "ada = AdaBoostClassifier()\n",
    "svc = SVC(probability=True)\n",
    "\n",
    "# Creating list of models\n",
    "model_list = [lr, knn, dt, bagging, rand_forest, ada, svc]"
   ]
  },
  {
   "cell_type": "code",
   "execution_count": 319,
   "metadata": {},
   "outputs": [
    {
     "data": {
      "text/html": [
       "<div>\n",
       "<style scoped>\n",
       "    .dataframe tbody tr th:only-of-type {\n",
       "        vertical-align: middle;\n",
       "    }\n",
       "\n",
       "    .dataframe tbody tr th {\n",
       "        vertical-align: top;\n",
       "    }\n",
       "\n",
       "    .dataframe thead th {\n",
       "        text-align: right;\n",
       "    }\n",
       "</style>\n",
       "<table border=\"1\" class=\"dataframe\">\n",
       "  <thead>\n",
       "    <tr style=\"text-align: right;\">\n",
       "      <th></th>\n",
       "      <th>model</th>\n",
       "      <th>cvs</th>\n",
       "      <th>train_score</th>\n",
       "      <th>val_score</th>\n",
       "      <th>tn</th>\n",
       "      <th>fp</th>\n",
       "      <th>fn</th>\n",
       "      <th>tp</th>\n",
       "      <th>sensitivity</th>\n",
       "      <th>specificity</th>\n",
       "    </tr>\n",
       "  </thead>\n",
       "  <tbody>\n",
       "    <tr>\n",
       "      <th>0</th>\n",
       "      <td>log_reg</td>\n",
       "      <td>0.815450</td>\n",
       "      <td>0.822767</td>\n",
       "      <td>0.770366</td>\n",
       "      <td>1503</td>\n",
       "      <td>0</td>\n",
       "      <td>86</td>\n",
       "      <td>0</td>\n",
       "      <td>0.000000</td>\n",
       "      <td>1.000000</td>\n",
       "    </tr>\n",
       "    <tr>\n",
       "      <th>1</th>\n",
       "      <td>knn</td>\n",
       "      <td>0.693379</td>\n",
       "      <td>0.952840</td>\n",
       "      <td>0.640924</td>\n",
       "      <td>1478</td>\n",
       "      <td>25</td>\n",
       "      <td>84</td>\n",
       "      <td>2</td>\n",
       "      <td>0.023256</td>\n",
       "      <td>0.983367</td>\n",
       "    </tr>\n",
       "    <tr>\n",
       "      <th>2</th>\n",
       "      <td>decision_tree</td>\n",
       "      <td>0.609994</td>\n",
       "      <td>1.000000</td>\n",
       "      <td>0.580699</td>\n",
       "      <td>1431</td>\n",
       "      <td>72</td>\n",
       "      <td>68</td>\n",
       "      <td>18</td>\n",
       "      <td>0.209302</td>\n",
       "      <td>0.952096</td>\n",
       "    </tr>\n",
       "    <tr>\n",
       "      <th>3</th>\n",
       "      <td>bagged_trees</td>\n",
       "      <td>0.784598</td>\n",
       "      <td>0.999786</td>\n",
       "      <td>0.720806</td>\n",
       "      <td>1471</td>\n",
       "      <td>32</td>\n",
       "      <td>75</td>\n",
       "      <td>11</td>\n",
       "      <td>0.127907</td>\n",
       "      <td>0.978709</td>\n",
       "    </tr>\n",
       "    <tr>\n",
       "      <th>4</th>\n",
       "      <td>rand_forest</td>\n",
       "      <td>0.842549</td>\n",
       "      <td>1.000000</td>\n",
       "      <td>0.820119</td>\n",
       "      <td>1478</td>\n",
       "      <td>25</td>\n",
       "      <td>76</td>\n",
       "      <td>10</td>\n",
       "      <td>0.116279</td>\n",
       "      <td>0.983367</td>\n",
       "    </tr>\n",
       "    <tr>\n",
       "      <th>5</th>\n",
       "      <td>ada</td>\n",
       "      <td>0.883760</td>\n",
       "      <td>0.911832</td>\n",
       "      <td>0.871316</td>\n",
       "      <td>1499</td>\n",
       "      <td>4</td>\n",
       "      <td>85</td>\n",
       "      <td>1</td>\n",
       "      <td>0.011628</td>\n",
       "      <td>0.997339</td>\n",
       "    </tr>\n",
       "    <tr>\n",
       "      <th>6</th>\n",
       "      <td>svc</td>\n",
       "      <td>0.772007</td>\n",
       "      <td>0.932745</td>\n",
       "      <td>0.729703</td>\n",
       "      <td>1503</td>\n",
       "      <td>0</td>\n",
       "      <td>86</td>\n",
       "      <td>0</td>\n",
       "      <td>0.000000</td>\n",
       "      <td>1.000000</td>\n",
       "    </tr>\n",
       "  </tbody>\n",
       "</table>\n",
       "</div>"
      ],
      "text/plain": [
       "           model       cvs  train_score  val_score    tn  fp  fn  tp  \\\n",
       "0        log_reg  0.815450     0.822767   0.770366  1503   0  86   0   \n",
       "1            knn  0.693379     0.952840   0.640924  1478  25  84   2   \n",
       "2  decision_tree  0.609994     1.000000   0.580699  1431  72  68  18   \n",
       "3   bagged_trees  0.784598     0.999786   0.720806  1471  32  75  11   \n",
       "4    rand_forest  0.842549     1.000000   0.820119  1478  25  76  10   \n",
       "5            ada  0.883760     0.911832   0.871316  1499   4  85   1   \n",
       "6            svc  0.772007     0.932745   0.729703  1503   0  86   0   \n",
       "\n",
       "   sensitivity  specificity  \n",
       "0     0.000000     1.000000  \n",
       "1     0.023256     0.983367  \n",
       "2     0.209302     0.952096  \n",
       "3     0.127907     0.978709  \n",
       "4     0.116279     0.983367  \n",
       "5     0.011628     0.997339  \n",
       "6     0.000000     1.000000  "
      ]
     },
     "metadata": {},
     "output_type": "display_data"
    }
   ],
   "source": [
    "# Defining function to fit and evaluate models\n",
    "def model_eval(m_list):\n",
    "    # Dictionary to store evaluation data\n",
    "    eval_dict = {\n",
    "        'model' : ['log_reg', 'knn', 'decision_tree', 'bagged_trees', 'rand_forest', 'ada', 'svc'], # model name\n",
    "        'cvs' : [], # cross validation score\n",
    "        'train_score' : [], # ROC AUC on train data\n",
    "        'val_score' : [], # ROC AUC on validation data\n",
    "        'tn' : [], # True negatives\n",
    "        'fp' : [], # False positives\n",
    "        'fn' : [], # False negatives\n",
    "        'tp' : []} # True positives\n",
    "        \n",
    "    for model in model_list: # Iterate through all models\n",
    "        model.fit(X_train_ss, y_train) # Fit the model\n",
    "        # Obtain cross validation score\n",
    "        cv_score = cross_val_score(model, X_train_ss, y_train, cv=5, scoring='roc_auc').mean()\n",
    "        # Predict the probabilities on train and validation data\n",
    "        preds_train = model.predict_proba(X_train_ss)[:,1]\n",
    "        preds_val = model.predict_proba(X_val_ss)[:,1]\n",
    "        # ROC AUC score for predictions\n",
    "        roc_train = roc_auc_score(y_train, preds_train)\n",
    "        roc_val = roc_auc_score(y_val, preds_val)\n",
    "        # Confusion matric based on prediction on validation data\n",
    "        tn, fp, fn, tp = confusion_matrix(y_val, model.predict(X_val_ss)).ravel()\n",
    "        # Append values to evaluation dictionary\n",
    "        eval_dict['cvs'].append(cv_score)\n",
    "        eval_dict['train_score'].append(roc_train)\n",
    "        eval_dict['val_score'].append(roc_val)\n",
    "        eval_dict['tn'].append(tn)\n",
    "        eval_dict['fp'].append(fp)\n",
    "        eval_dict['fn'].append(fn)\n",
    "        eval_dict['tp'].append(tp)\n",
    "\n",
    "    model_results = pd.DataFrame(eval_dict)\n",
    "    # Calculate sensitivity\n",
    "    model_results['sensitivity'] = model_results['tp'] / (model_results['tp'] + model_results['fn'])\n",
    "    # Calculate specificity\n",
    "    model_results['specificity'] = model_results['tn'] / (model_results['tn'] + model_results['fp'])\n",
    "    \n",
    "    return model_results\n",
    "\n",
    "display(model_eval(model_list))"
   ]
  },
  {
   "cell_type": "markdown",
   "metadata": {},
   "source": [
    "Observations:\n",
    "- 2 models, `Random Forest` and `Adaboost` had higher cross validation scores than our baseline `Logistic Regression` model\n",
    "- `Decision Trees` and `Bagged Trees` seem to give lower number of false negatives. This is essential as false negatives means that the virus is actually present in the area but was predicted as not present. In order to best minimise the spread, we would need to minimise false negatives.\n",
    "\n",
    "In conclusion, we will optimise parameters using GridSearch for the following models:\n",
    "- Decision Trees\n",
    "- Bagged Decision Trees\n",
    "- Random Forest\n",
    "- Adaboost Classifier"
   ]
  },
  {
   "cell_type": "markdown",
   "metadata": {},
   "source": [
    "### 4.2 Tuning Hyperparameters <a class=\"anchor\" id=\"chapter4_2\"></a>"
   ]
  },
  {
   "cell_type": "code",
   "execution_count": 138,
   "metadata": {},
   "outputs": [],
   "source": [
    "# Define function for gridsearch, taking in model and parameter grid\n",
    "def grid_search(model_dict):\n",
    "    \n",
    "    gs_results = {\n",
    "        'model':[],\n",
    "        'opt_params':[],\n",
    "        'train_score':[],\n",
    "        'val_score':[],\n",
    "        'best_model':[]\n",
    "    }\n",
    "\n",
    "    for model, params in model_dict.items():\n",
    "        # Instantiate gridsearch using ROC AUC metric\n",
    "        gs = GridSearchCV(estimator=model,\n",
    "                         param_grid=params,\n",
    "                         scoring='roc_auc',\n",
    "                         cv=5,\n",
    "                         verbose=1)\n",
    "        gs.fit(X_train_ss, y_train) # fit the model\n",
    "        best_params = gs.best_params_ # obtain best parameters\n",
    "        train_score = gs.best_score_ # ROC AUC score on train data\n",
    "        val_score = gs.score(X_val_ss, y_val) # ROC AUC score on validation data\n",
    "        best_model = gs.best_estimator_\n",
    "\n",
    "        # Storing data for evaluation\n",
    "        gs_results['model'].append(model)\n",
    "        gs_results['opt_params'].append(best_params)\n",
    "        gs_results['train_score'].append(train_score)\n",
    "        gs_results['val_score'].append(val_score)\n",
    "        gs_results['best_model'].append(best_model)\n",
    "    \n",
    "        print(f\"Best parameters for {model} is {best_params}.\")\n",
    "        print(f\"Score on train set: {train_score}.\")\n",
    "        print(f\"Score on validation set: {val_score}.\")\n",
    "    \n",
    "    return pd.DataFrame(gs_results)"
   ]
  },
  {
   "cell_type": "code",
   "execution_count": 139,
   "metadata": {},
   "outputs": [],
   "source": [
    "# Instantiating models\n",
    "dt = DecisionTreeClassifier()\n",
    "bag_trees = BaggingClassifier(n_jobs=-1)\n",
    "rand_forest = RandomForestClassifier(n_jobs=-1)\n",
    "ada = AdaBoostClassifier()"
   ]
  },
  {
   "cell_type": "code",
   "execution_count": 140,
   "metadata": {},
   "outputs": [],
   "source": [
    "# Creating class weights based on labels in training data\n",
    "wnv_class = dict(y_train.value_counts(normalize=True))\n",
    "\n",
    "# Defining parameter grid for different models\n",
    "\n",
    "dt_params = {'criterion':['gini','entropy'],\n",
    "            'splitter':['best', 'random'],\n",
    "            'max_depth': [3,5,15],\n",
    "            'max_features': [5,10,16],\n",
    "            'class_weight': [None, wnv_class]}\n",
    "\n",
    "bag_params = {'n_estimators' : [400, 450, 500],\n",
    "              'max_features' : [8, 12, 16]}\n",
    "\n",
    "randf_params = {'n_estimators':[150, 250, 300],\n",
    "               'max_depth':[3, 5, 10],\n",
    "               'max_features':[7, 12, 16],\n",
    "               'class_weight':[None, wnv_class]}\n",
    "\n",
    "ada_params = {'n_estimators':[20, 50, 100],\n",
    "             'learning_rate':[0.5, 1, 1.5]}\n"
   ]
  },
  {
   "cell_type": "code",
   "execution_count": 141,
   "metadata": {},
   "outputs": [],
   "source": [
    "# Creating dictionary to store model with model params\n",
    "model_dict = {\n",
    "    dt : dt_params,\n",
    "    bag_trees : bag_params,\n",
    "    rand_forest : randf_params,\n",
    "    ada : ada_params\n",
    "}"
   ]
  },
  {
   "cell_type": "code",
   "execution_count": 143,
   "metadata": {},
   "outputs": [
    {
     "name": "stdout",
     "output_type": "stream",
     "text": [
      "Fitting 5 folds for each of 72 candidates, totalling 360 fits\n"
     ]
    },
    {
     "name": "stderr",
     "output_type": "stream",
     "text": [
      "[Parallel(n_jobs=1)]: Using backend SequentialBackend with 1 concurrent workers.\n",
      "[Parallel(n_jobs=1)]: Done 360 out of 360 | elapsed:    2.1s finished\n",
      "[Parallel(n_jobs=1)]: Using backend SequentialBackend with 1 concurrent workers.\n"
     ]
    },
    {
     "name": "stdout",
     "output_type": "stream",
     "text": [
      "Best parameters for DecisionTreeClassifier() is {'class_weight': {0: 0.9460876861757919, 1: 0.053912313824208094}, 'criterion': 'entropy', 'max_depth': 5, 'max_features': 16, 'splitter': 'best'}.\n",
      "Score on train set: 0.8649396932574838.\n",
      "Score on validation set: 0.8642559841557196.\n",
      "Fitting 5 folds for each of 9 candidates, totalling 45 fits\n"
     ]
    },
    {
     "name": "stderr",
     "output_type": "stream",
     "text": [
      "[Parallel(n_jobs=1)]: Done  45 out of  45 | elapsed:   44.3s finished\n"
     ]
    },
    {
     "name": "stdout",
     "output_type": "stream",
     "text": [
      "Best parameters for BaggingClassifier(n_jobs=-1) is {'max_features': 16, 'n_estimators': 500}.\n",
      "Score on train set: 0.8671213709771814.\n",
      "Score on validation set: 0.8415417227560383.\n",
      "Fitting 5 folds for each of 54 candidates, totalling 270 fits\n"
     ]
    },
    {
     "name": "stderr",
     "output_type": "stream",
     "text": [
      "[Parallel(n_jobs=1)]: Using backend SequentialBackend with 1 concurrent workers.\n",
      "[Parallel(n_jobs=1)]: Done 270 out of 270 | elapsed:  2.0min finished\n"
     ]
    },
    {
     "name": "stdout",
     "output_type": "stream",
     "text": [
      "Best parameters for RandomForestClassifier(n_jobs=-1) is {'class_weight': None, 'max_depth': 5, 'max_features': 12, 'n_estimators': 150}.\n",
      "Score on train set: 0.8870049128298769.\n",
      "Score on validation set: 0.8672809419919851.\n",
      "Fitting 5 folds for each of 9 candidates, totalling 45 fits\n"
     ]
    },
    {
     "name": "stderr",
     "output_type": "stream",
     "text": [
      "[Parallel(n_jobs=1)]: Using backend SequentialBackend with 1 concurrent workers.\n",
      "[Parallel(n_jobs=1)]: Done  45 out of  45 | elapsed:    9.6s finished\n"
     ]
    },
    {
     "name": "stdout",
     "output_type": "stream",
     "text": [
      "Best parameters for AdaBoostClassifier() is {'learning_rate': 1.5, 'n_estimators': 50}.\n",
      "Score on train set: 0.8839820091434152.\n",
      "Score on validation set: 0.8727080722276377.\n"
     ]
    },
    {
     "data": {
      "text/html": [
       "<div>\n",
       "<style scoped>\n",
       "    .dataframe tbody tr th:only-of-type {\n",
       "        vertical-align: middle;\n",
       "    }\n",
       "\n",
       "    .dataframe tbody tr th {\n",
       "        vertical-align: top;\n",
       "    }\n",
       "\n",
       "    .dataframe thead th {\n",
       "        text-align: right;\n",
       "    }\n",
       "</style>\n",
       "<table border=\"1\" class=\"dataframe\">\n",
       "  <thead>\n",
       "    <tr style=\"text-align: right;\">\n",
       "      <th></th>\n",
       "      <th>model</th>\n",
       "      <th>opt_params</th>\n",
       "      <th>train_score</th>\n",
       "      <th>val_score</th>\n",
       "      <th>best_model</th>\n",
       "    </tr>\n",
       "  </thead>\n",
       "  <tbody>\n",
       "    <tr>\n",
       "      <th>0</th>\n",
       "      <td>DecisionTreeClassifier()</td>\n",
       "      <td>{'class_weight': {0: 0.9460876861757919, 1: 0....</td>\n",
       "      <td>0.864940</td>\n",
       "      <td>0.864256</td>\n",
       "      <td>DecisionTreeClassifier(class_weight={0: 0.9460...</td>\n",
       "    </tr>\n",
       "    <tr>\n",
       "      <th>1</th>\n",
       "      <td>BaggingClassifier(n_jobs=-1)</td>\n",
       "      <td>{'max_features': 16, 'n_estimators': 500}</td>\n",
       "      <td>0.867121</td>\n",
       "      <td>0.841542</td>\n",
       "      <td>(DecisionTreeClassifier(random_state=741790405...</td>\n",
       "    </tr>\n",
       "    <tr>\n",
       "      <th>2</th>\n",
       "      <td>RandomForestClassifier(n_jobs=-1)</td>\n",
       "      <td>{'class_weight': None, 'max_depth': 5, 'max_fe...</td>\n",
       "      <td>0.887005</td>\n",
       "      <td>0.867281</td>\n",
       "      <td>(DecisionTreeClassifier(max_depth=5, max_featu...</td>\n",
       "    </tr>\n",
       "    <tr>\n",
       "      <th>3</th>\n",
       "      <td>AdaBoostClassifier()</td>\n",
       "      <td>{'learning_rate': 1.5, 'n_estimators': 50}</td>\n",
       "      <td>0.883982</td>\n",
       "      <td>0.872708</td>\n",
       "      <td>(DecisionTreeClassifier(max_depth=1, random_st...</td>\n",
       "    </tr>\n",
       "  </tbody>\n",
       "</table>\n",
       "</div>"
      ],
      "text/plain": [
       "                               model  \\\n",
       "0           DecisionTreeClassifier()   \n",
       "1       BaggingClassifier(n_jobs=-1)   \n",
       "2  RandomForestClassifier(n_jobs=-1)   \n",
       "3               AdaBoostClassifier()   \n",
       "\n",
       "                                          opt_params  train_score  val_score  \\\n",
       "0  {'class_weight': {0: 0.9460876861757919, 1: 0....     0.864940   0.864256   \n",
       "1          {'max_features': 16, 'n_estimators': 500}     0.867121   0.841542   \n",
       "2  {'class_weight': None, 'max_depth': 5, 'max_fe...     0.887005   0.867281   \n",
       "3         {'learning_rate': 1.5, 'n_estimators': 50}     0.883982   0.872708   \n",
       "\n",
       "                                          best_model  \n",
       "0  DecisionTreeClassifier(class_weight={0: 0.9460...  \n",
       "1  (DecisionTreeClassifier(random_state=741790405...  \n",
       "2  (DecisionTreeClassifier(max_depth=5, max_featu...  \n",
       "3  (DecisionTreeClassifier(max_depth=1, random_st...  "
      ]
     },
     "metadata": {},
     "output_type": "display_data"
    }
   ],
   "source": [
    "gs_results = grid_search(model_dict) # Run function on dataframe and store results as gs_results\n",
    "display(gs_results)"
   ]
  },
  {
   "cell_type": "markdown",
   "metadata": {},
   "source": [
    "Observations:\n",
    "- `Random Forests` score on train data decreased but increase on validation data. Tuning the hyperparameters helped to reducce overfitting, increasing the bias on the train score but achieving lesser variance\n",
    "- `Adaboost` seems to perform very well as well, with reduced overfitting after hyperparameters were tuned."
   ]
  },
  {
   "cell_type": "markdown",
   "metadata": {},
   "source": [
    "### 4.3 Refit Model and Evaluate Test Data <a class=\"anchor\" id=\"chapter4_3\"></a>\n",
    "\n",
    "After tuning the hyperparameters, we will used the optimal models to fit on the entire train and validation data (earlier defined as the X_sample), and test on the withheld test data set to evaluate how well each model generalises."
   ]
  },
  {
   "cell_type": "code",
   "execution_count": 144,
   "metadata": {},
   "outputs": [],
   "source": [
    "# Create list of models with optimal parameters\n",
    "opt_model_list = gs_results['best_model']\n",
    "\n",
    "# Refit standard scalary on entire train and validation data\n",
    "ss = StandardScaler()\n",
    "X_sample_ss = ss.fit_transform(X_sample)\n",
    "# Transform test data set with fitted standard scalar\n",
    "X_test_ss = ss.transform(X_test)"
   ]
  },
  {
   "cell_type": "code",
   "execution_count": 146,
   "metadata": {},
   "outputs": [],
   "source": [
    "# Function to get ROC AUC score, confusion matrix, sensitivity and specificity scores\n",
    "def pred_results(model_list):\n",
    "    # Dictionary to store results\n",
    "    gen_results = {\n",
    "        'model':[], # Model used\n",
    "        'train_roc':[], # ROC AUC on X_sample\n",
    "        'test_roc':[], # ROC AUC on X_test\n",
    "        'tn': [], # True negatives\n",
    "        'fp': [], # False positives\n",
    "        'fn': [], # False negatives\n",
    "        'tp': [], # True positives\n",
    "    } \n",
    "    \n",
    "    for model in model_list: # Iterate through all the models\n",
    "        # Fit the model\n",
    "        model.fit(X_sample_ss, y_sample)\n",
    "        # Get prediction probabilities\n",
    "        train_preds = model.predict_proba(X_sample_ss)[:,1]\n",
    "        test_preds = model.predict_proba(X_test_ss)[:,1]\n",
    "        # Store ROC AUC scores\n",
    "        train_roc = roc_auc_score(y_sample, train_preds)\n",
    "        test_roc = roc_auc_score(y_test, test_preds)\n",
    "        # Confusion matrix values\n",
    "        tn, fp, fn, tp = confusion_matrix(y_test, model.predict(X_test_ss)).ravel()\n",
    "        # Appending information to dictionary for each model\n",
    "        gen_results['model'].append(model)\n",
    "        gen_results['train_roc'].append(train_roc)\n",
    "        gen_results['test_roc'].append(test_roc)\n",
    "        gen_results['tn'].append(tn)\n",
    "        gen_results['fp'].append(fp)\n",
    "        gen_results['fn'].append(fn)\n",
    "        gen_results['tp'].append(tp)\n",
    "    # Generate a dataframe of the results\n",
    "    gen_results = pd.DataFrame(gen_results)\n",
    "    # Calculate sensitivity\n",
    "    gen_results['sensitivity'] = gen_results['tp'] / (gen_results['tp'] + gen_results['fn'])\n",
    "    # Calculate specificity\n",
    "    gen_results['specificity'] = gen_results['tn'] / (gen_results['tn'] + gen_results['fp'])\n",
    "    \n",
    "    return gen_results"
   ]
  },
  {
   "cell_type": "code",
   "execution_count": 148,
   "metadata": {},
   "outputs": [
    {
     "data": {
      "text/html": [
       "<div>\n",
       "<style scoped>\n",
       "    .dataframe tbody tr th:only-of-type {\n",
       "        vertical-align: middle;\n",
       "    }\n",
       "\n",
       "    .dataframe tbody tr th {\n",
       "        vertical-align: top;\n",
       "    }\n",
       "\n",
       "    .dataframe thead th {\n",
       "        text-align: right;\n",
       "    }\n",
       "</style>\n",
       "<table border=\"1\" class=\"dataframe\">\n",
       "  <thead>\n",
       "    <tr style=\"text-align: right;\">\n",
       "      <th></th>\n",
       "      <th>model</th>\n",
       "      <th>train_roc</th>\n",
       "      <th>test_roc</th>\n",
       "      <th>tn</th>\n",
       "      <th>fp</th>\n",
       "      <th>fn</th>\n",
       "      <th>tp</th>\n",
       "      <th>sensitivity</th>\n",
       "      <th>specificity</th>\n",
       "    </tr>\n",
       "  </thead>\n",
       "  <tbody>\n",
       "    <tr>\n",
       "      <th>0</th>\n",
       "      <td>DecisionTreeClassifier(class_weight={0: 0.9460...</td>\n",
       "      <td>0.895924</td>\n",
       "      <td>0.876066</td>\n",
       "      <td>2004</td>\n",
       "      <td>1</td>\n",
       "      <td>114</td>\n",
       "      <td>0</td>\n",
       "      <td>0.000000</td>\n",
       "      <td>0.999501</td>\n",
       "    </tr>\n",
       "    <tr>\n",
       "      <th>1</th>\n",
       "      <td>(DecisionTreeClassifier(random_state=852678667...</td>\n",
       "      <td>1.000000</td>\n",
       "      <td>0.872580</td>\n",
       "      <td>1968</td>\n",
       "      <td>37</td>\n",
       "      <td>98</td>\n",
       "      <td>16</td>\n",
       "      <td>0.140351</td>\n",
       "      <td>0.981546</td>\n",
       "    </tr>\n",
       "    <tr>\n",
       "      <th>2</th>\n",
       "      <td>(DecisionTreeClassifier(max_depth=5, max_featu...</td>\n",
       "      <td>0.922887</td>\n",
       "      <td>0.902570</td>\n",
       "      <td>2004</td>\n",
       "      <td>1</td>\n",
       "      <td>113</td>\n",
       "      <td>1</td>\n",
       "      <td>0.008772</td>\n",
       "      <td>0.999501</td>\n",
       "    </tr>\n",
       "    <tr>\n",
       "      <th>3</th>\n",
       "      <td>(DecisionTreeClassifier(max_depth=1, random_st...</td>\n",
       "      <td>0.903558</td>\n",
       "      <td>0.888841</td>\n",
       "      <td>2005</td>\n",
       "      <td>0</td>\n",
       "      <td>113</td>\n",
       "      <td>1</td>\n",
       "      <td>0.008772</td>\n",
       "      <td>1.000000</td>\n",
       "    </tr>\n",
       "  </tbody>\n",
       "</table>\n",
       "</div>"
      ],
      "text/plain": [
       "                                               model  train_roc  test_roc  \\\n",
       "0  DecisionTreeClassifier(class_weight={0: 0.9460...   0.895924  0.876066   \n",
       "1  (DecisionTreeClassifier(random_state=852678667...   1.000000  0.872580   \n",
       "2  (DecisionTreeClassifier(max_depth=5, max_featu...   0.922887  0.902570   \n",
       "3  (DecisionTreeClassifier(max_depth=1, random_st...   0.903558  0.888841   \n",
       "\n",
       "     tn  fp   fn  tp  sensitivity  specificity  \n",
       "0  2004   1  114   0     0.000000     0.999501  \n",
       "1  1968  37   98  16     0.140351     0.981546  \n",
       "2  2004   1  113   1     0.008772     0.999501  \n",
       "3  2005   0  113   1     0.008772     1.000000  "
      ]
     },
     "metadata": {},
     "output_type": "display_data"
    }
   ],
   "source": [
    "gen_results = pred_results(opt_model_list)\n",
    "display(gen_results)"
   ]
  },
  {
   "cell_type": "markdown",
   "metadata": {},
   "source": [
    "Evaluation:\n",
    "- Based on ROC AUC scores, it seems that `random forest` performs the best due to good ROC AUC scores on both the train and test set, and minimal differences between the two, indicating that the model has low bias and low variance.\n",
    "- However, based on the confusion matrix, `bagged trees` best fulfils the problem statement as it achieved the highest true positives (predicted WNV virus and has WNV virus), as well as minimal false negatives (predicted no WNV but has WNV). \n",
    "- False negatives are particularly problematic for our problem statement as it means that they model did not predict those locations as positive, and therefore no action was taken. These locations actually had the WNV virus but no action was taken to curb the virus, leading to increased chances of spreading the virus."
   ]
  },
  {
   "cell_type": "code",
   "execution_count": 252,
   "metadata": {},
   "outputs": [],
   "source": [
    "def plot_metrics(model):\n",
    "    model.fit(X_sample_ss, y_sample)\n",
    "    \n",
    "    pred_prob_1 = model.predict_proba(X_test_ss)[:,1]\n",
    "    \n",
    "    fpr, tpr, threshold = roc_curve(y_test, pred_prob_1)\n",
    "\n",
    "    fix, ax = plt.subplots(1,2, figsize=(16,8))\n",
    "    plt.suptitle(f'Plots for {model}',fontsize=18)\n",
    "\n",
    "    ax[0].hist(pred_prob_1, bins=25, color='orange')\n",
    "    ax[0].set_title('Distribution of Probabilities for Prediction = 1', fontsize=15)\n",
    "    ax[0].set_xlabel('Predicted Probabilities', fontsize=12)\n",
    "    ax[0].set_ylabel('Frequency', fontsize=12)\n",
    "\n",
    "    ax[1].plot(fpr, tpr, label='ROC Curve')\n",
    "    ax[1].plot(np.linspace(0, 1, 200), np.linspace(0, 1, 200), label='baseline', linestyle='--')\n",
    "    ax[1].set_title(f\"ROC Curve\", fontsize=15)\n",
    "    ax[1].set_ylabel('Sensitivity', fontsize=12)\n",
    "    ax[1].set_xlabel('1 - Specificity', fontsize=12)\n",
    "    \n",
    "    plt.tight_layout()\n",
    "    plt.show()"
   ]
  },
  {
   "cell_type": "code",
   "execution_count": 253,
   "metadata": {},
   "outputs": [
    {
     "data": {
      "image/png": "[encoded data removed]",
      "text/plain": [
       "<Figure size 1152x576 with 2 Axes>"
      ]
     },
     "metadata": {
      "needs_background": "light"
     },
     "output_type": "display_data"
    }
   ],
   "source": [
    "# Plot metrics for Decision Tree Classifier\n",
    "plot_metrics(gen_results['model'][0])"
   ]
  },
  {
   "cell_type": "code",
   "execution_count": 254,
   "metadata": {},
   "outputs": [
    {
     "data": {
      "image/png": "[encoded data removed]",
      "text/plain": [
       "<Figure size 1152x576 with 2 Axes>"
      ]
     },
     "metadata": {
      "needs_background": "light"
     },
     "output_type": "display_data"
    }
   ],
   "source": [
    "# Plot metrics for Bagged Trees Classifier\n",
    "plot_metrics(gen_results['model'][1])"
   ]
  },
  {
   "cell_type": "code",
   "execution_count": 255,
   "metadata": {},
   "outputs": [
    {
     "data": {
      "image/png": "[encoded data removed]",
      "text/plain": [
       "<Figure size 1152x576 with 2 Axes>"
      ]
     },
     "metadata": {
      "needs_background": "light"
     },
     "output_type": "display_data"
    }
   ],
   "source": [
    "# Plot metrics for Random Forests Classifier\n",
    "plot_metrics(gen_results['model'][2])"
   ]
  },
  {
   "cell_type": "code",
   "execution_count": 256,
   "metadata": {},
   "outputs": [
    {
     "data": {
      "image/png": "[encoded data removed]",
      "text/plain": [
       "<Figure size 1152x576 with 2 Axes>"
      ]
     },
     "metadata": {
      "needs_background": "light"
     },
     "output_type": "display_data"
    }
   ],
   "source": [
    "# Plot metrics for Adaboost Classifier\n",
    "plot_metrics(gen_results['model'][3])"
   ]
  },
  {
   "cell_type": "markdown",
   "metadata": {},
   "source": [
    "Observations:\n",
    "- `Random Forests` and `Adaboost` seem to achieve the highest area under the curve for ROC AUC\n",
    "- Distributions for `Decision Trees` is heavily skewed with most values being 0\n",
    "- `Bagged Trees` seem to have higher sensitivity scores, which minimises false negatives"
   ]
  },
  {
   "cell_type": "markdown",
   "metadata": {},
   "source": [
    "## 5. Kaggle Submissions <a class=\"anchor\" id=\"chapter5\"></a>\n",
    "---\n",
    "\n",
    "Now that we have narrowed down these models, we will prepare results based on these 4 models for submission to Kaggle."
   ]
  },
  {
   "cell_type": "code",
   "execution_count": 257,
   "metadata": {},
   "outputs": [],
   "source": [
    "# Consolidate Sample and Test data to refit models based on entire data\n",
    "X_train = train[[col for col in train.columns if col not in ['WnvPresent']]]\n",
    "y_train = train['WnvPresent']\n",
    "\n",
    "# Drop Id column in kaggle data set to ensure same features as training data\n",
    "X_test = kaggle_test.drop(['Id'],axis=1)"
   ]
  },
  {
   "cell_type": "code",
   "execution_count": 258,
   "metadata": {},
   "outputs": [],
   "source": [
    "# Instantiate scalar and scale data\n",
    "ss = StandardScaler()\n",
    "X_train_ss = ss.fit_transform(X_train)\n",
    "X_test_ss = ss.transform(X_test)"
   ]
  },
  {
   "cell_type": "code",
   "execution_count": 259,
   "metadata": {},
   "outputs": [],
   "source": [
    "# Refit optimal models to full training data and store probablities for the different models\n",
    "kaggle_probs = []\n",
    "for model in opt_model_list:\n",
    "    model.fit(X_train_ss, y_train)\n",
    "    kaggle_probs.append(model.predict_proba(X_test_ss)[:,1])\n",
    "    "
   ]
  },
  {
   "cell_type": "code",
   "execution_count": 260,
   "metadata": {},
   "outputs": [],
   "source": [
    "# Preparing kaggle submission file for Decision Trees\n",
    "dt_final = pd.DataFrame([kaggle_test['Id'], kaggle_probs[0]]).T\n",
    "dt_final.rename({'Unnamed 0':'WnvPresent'},axis='columns',inplace=True)\n",
    "dt_final['Id'] = dt_final['Id'].astype('int32')\n",
    "dt_final.to_csv('../kaggle_files/dec_tree.csv',index=False)"
   ]
  },
  {
   "cell_type": "code",
   "execution_count": 261,
   "metadata": {},
   "outputs": [],
   "source": [
    "# Preparing kaggle submission file for Bagged Trees\n",
    "bagged_final = pd.DataFrame([kaggle_test['Id'], kaggle_probs[1]]).T\n",
    "bagged_final.rename({'Unnamed 0':'WnvPresent'},axis='columns',inplace=True)\n",
    "bagged_final['Id'] = bagged_final['Id'].astype('int32')\n",
    "bagged_final.to_csv('../kaggle_files/bagged.csv',index=False)"
   ]
  },
  {
   "cell_type": "code",
   "execution_count": 262,
   "metadata": {},
   "outputs": [],
   "source": [
    "# Preparing kaggle submission file for Random Forests\n",
    "rf_final = pd.DataFrame([kaggle_test['Id'], kaggle_probs[2]]).T\n",
    "rf_final.rename({'Unnamed 0':'WnvPresent'},axis='columns',inplace=True)\n",
    "rf_final['Id']= rf_final['Id'].astype('int32')\n",
    "rf_final.to_csv('../kaggle_files/rf.csv',index=False)"
   ]
  },
  {
   "cell_type": "code",
   "execution_count": 263,
   "metadata": {},
   "outputs": [],
   "source": [
    "# Preparing kaggle submission file for Adaboost Classifier\n",
    "ada_final = pd.DataFrame([kaggle_test['Id'], kaggle_probs[3]]).T\n",
    "ada_final.rename({'Unnamed 0':'WnvPresent'},axis='columns',inplace=True)\n",
    "ada_final['Id'] = ada_final['Id'].astype('int32')\n",
    "ada_final.to_csv('../kaggle_files/ada.csv',index=False)"
   ]
  },
  {
   "cell_type": "markdown",
   "metadata": {},
   "source": [
    "<img src=\"../kaggle_files/kaggle_results.png\" style=\"width: 500px;\"/>"
   ]
  },
  {
   "cell_type": "markdown",
   "metadata": {},
   "source": [
    "Observations:\n",
    "- `Random Forest` performed the best with ROC AUC score of 0.72.\n",
    "- `Bagged Forest` also seems to perform relatively well with 0.70."
   ]
  },
  {
   "cell_type": "markdown",
   "metadata": {},
   "source": [
    "## 6. Cost Benefit Analysis <a class=\"anchor\" id=\"chapter6\"></a>\n",
    "---\n",
    "\n",
    "`Random Forest` performs the best in terms of ROC AUC. However, `Bagged Trees` provides the highest sensitivity score, which minimises false negatives. A cost benefit analysis will be performed on these 2 models to decide which model provides better value."
   ]
  },
  {
   "cell_type": "code",
   "execution_count": 266,
   "metadata": {},
   "outputs": [
    {
     "data": {
      "text/html": [
       "<div>\n",
       "<style scoped>\n",
       "    .dataframe tbody tr th:only-of-type {\n",
       "        vertical-align: middle;\n",
       "    }\n",
       "\n",
       "    .dataframe tbody tr th {\n",
       "        vertical-align: top;\n",
       "    }\n",
       "\n",
       "    .dataframe thead th {\n",
       "        text-align: right;\n",
       "    }\n",
       "</style>\n",
       "<table border=\"1\" class=\"dataframe\">\n",
       "  <thead>\n",
       "    <tr style=\"text-align: right;\">\n",
       "      <th></th>\n",
       "      <th>model</th>\n",
       "      <th>train_roc</th>\n",
       "      <th>test_roc</th>\n",
       "      <th>tn</th>\n",
       "      <th>fp</th>\n",
       "      <th>fn</th>\n",
       "      <th>tp</th>\n",
       "      <th>sensitivity</th>\n",
       "      <th>specificity</th>\n",
       "    </tr>\n",
       "  </thead>\n",
       "  <tbody>\n",
       "    <tr>\n",
       "      <th>0</th>\n",
       "      <td>DecisionTreeClassifier(class_weight={0: 0.9460...</td>\n",
       "      <td>0.895924</td>\n",
       "      <td>0.876066</td>\n",
       "      <td>2004</td>\n",
       "      <td>1</td>\n",
       "      <td>114</td>\n",
       "      <td>0</td>\n",
       "      <td>0.000000</td>\n",
       "      <td>0.999501</td>\n",
       "    </tr>\n",
       "    <tr>\n",
       "      <th>1</th>\n",
       "      <td>(DecisionTreeClassifier(random_state=67810918)...</td>\n",
       "      <td>1.000000</td>\n",
       "      <td>0.872580</td>\n",
       "      <td>1968</td>\n",
       "      <td>37</td>\n",
       "      <td>98</td>\n",
       "      <td>16</td>\n",
       "      <td>0.140351</td>\n",
       "      <td>0.981546</td>\n",
       "    </tr>\n",
       "    <tr>\n",
       "      <th>2</th>\n",
       "      <td>(DecisionTreeClassifier(max_depth=5, max_featu...</td>\n",
       "      <td>0.922887</td>\n",
       "      <td>0.902570</td>\n",
       "      <td>2004</td>\n",
       "      <td>1</td>\n",
       "      <td>113</td>\n",
       "      <td>1</td>\n",
       "      <td>0.008772</td>\n",
       "      <td>0.999501</td>\n",
       "    </tr>\n",
       "    <tr>\n",
       "      <th>3</th>\n",
       "      <td>(DecisionTreeClassifier(max_depth=1, random_st...</td>\n",
       "      <td>0.903558</td>\n",
       "      <td>0.888841</td>\n",
       "      <td>2005</td>\n",
       "      <td>0</td>\n",
       "      <td>113</td>\n",
       "      <td>1</td>\n",
       "      <td>0.008772</td>\n",
       "      <td>1.000000</td>\n",
       "    </tr>\n",
       "  </tbody>\n",
       "</table>\n",
       "</div>"
      ],
      "text/plain": [
       "                                               model  train_roc  test_roc  \\\n",
       "0  DecisionTreeClassifier(class_weight={0: 0.9460...   0.895924  0.876066   \n",
       "1  (DecisionTreeClassifier(random_state=67810918)...   1.000000  0.872580   \n",
       "2  (DecisionTreeClassifier(max_depth=5, max_featu...   0.922887  0.902570   \n",
       "3  (DecisionTreeClassifier(max_depth=1, random_st...   0.903558  0.888841   \n",
       "\n",
       "     tn  fp   fn  tp  sensitivity  specificity  \n",
       "0  2004   1  114   0     0.000000     0.999501  \n",
       "1  1968  37   98  16     0.140351     0.981546  \n",
       "2  2004   1  113   1     0.008772     0.999501  \n",
       "3  2005   0  113   1     0.008772     1.000000  "
      ]
     },
     "metadata": {},
     "output_type": "display_data"
    }
   ],
   "source": [
    "display(gen_results)"
   ]
  },
  {
   "cell_type": "markdown",
   "metadata": {},
   "source": [
    "### 6.1 Assumptions <a class=\"anchor\" id=\"chapter6_1\"></a>"
   ]
  },
  {
   "cell_type": "markdown",
   "metadata": {},
   "source": [
    "Assumptions:\n",
    "- Sprays will be conducted at all sites predicted as positive\n",
    "- Sprays will be conducted for 7 consecutive days prior to positive event\n",
    "- Cost comprises of - \n",
    " - Cost of sprays (measurable)\n",
    " - Economic loss due to loss of work by infected individuals (measurable)\n",
    " - Medical fees for infected cases, assumed borne by state (measurable)\n",
    "- Benefit comprises of - \n",
    " - Prevention of economic loss of work for number of cases prevented (measurable)\n",
    " - Public health and confidence (cannot be measured)"
   ]
  },
  {
   "cell_type": "markdown",
   "metadata": {},
   "source": [
    "### 6.2 Spray Costs <a class=\"anchor\" id=\"chapter6_2\"></a>\n",
    "\n",
    "The Chicago Department of Public Health (CDPH) conducts control measures such as using trucks to dispense an ultra low volume spray of Zenivix [[source]](https://www.chicago.gov/city/en/depts/cdph/provdrs/healthy_communities/news/2020/august/city-to-spray-insecticide-thursday-to-kill-mosquitoes.html). The solution is sprayed at around 4.5 to 9 ounces per minute [[source]](https://www.cmmcp.org/pesticide-information/pages/zenivex-e4-etofenprox). The solution also roughly costs US$80/gallon [[source]](../assets/zenivex.pdf)."
   ]
  },
  {
   "cell_type": "code",
   "execution_count": 322,
   "metadata": {},
   "outputs": [
    {
     "name": "stdout",
     "output_type": "stream",
     "text": [
      "The spray cost per trap is US$8859.38.\n"
     ]
    }
   ],
   "source": [
    "spraytime_per_day = 5 * 60 # 5 hours per day\n",
    "gallon_per_minute = (4.5 + 9)/2 /128 # (Average spray rate) / (ounces/gallon)\n",
    "cost_per_gallon = 80 # US$80 per gallon\n",
    "\n",
    "cost_per_day = spraytime_per_day * gallon_per_minute * cost_per_gallon\n",
    "cost_per_trap = cost_per_day * 7 \n",
    "print(f\"The spray cost per trap is US${round(cost_per_trap,2)}.\")"
   ]
  },
  {
   "cell_type": "markdown",
   "metadata": {},
   "source": [
    "### 6.3 Economic Loss of Activity <a class=\"anchor\" id=\"chapter6_3\"></a>\n",
    "\n",
    "Affected individuals will not be able to work during their recovery period. An estimation of this loss of economic activity will be used as a factor in the cost benefit analysis [[source]](https://www.ncbi.nlm.nih.gov/pmc/articles/PMC3322011/#R6)."
   ]
  },
  {
   "cell_type": "markdown",
   "metadata": {},
   "source": [
    "<img src=\"../assets/economic_costs.png\" style=\"width: 500px;\"/>"
   ]
  },
  {
   "cell_type": "code",
   "execution_count": 321,
   "metadata": {},
   "outputs": [
    {
     "name": "stdout",
     "output_type": "stream",
     "text": [
      "The average economic loss per patient is US$8358.62.\n"
     ]
    }
   ],
   "source": [
    "econ_per_patient = 484800 / (31 + 15 + 12) # Total cost / number of patients\n",
    "print(f\"The average economic loss per patient is US${round(econ_per_patient,2)}.\")"
   ]
  },
  {
   "cell_type": "markdown",
   "metadata": {},
   "source": [
    "### 6.4 Medical Costs <a class=\"anchor\" id=\"chapter6_4\"></a>\n",
    "\n",
    "In addition to loss of economic activity, medical expenses are also incurred by patients. Assuming that these medical costs are borne by the state, this also represents an additional factor of costs. For the purpose of this estimation, we will only look at costs that are applicable to all 46 patients."
   ]
  },
  {
   "cell_type": "markdown",
   "metadata": {},
   "source": [
    "<img src=\"../assets/medical_costs.png\" style=\"width: 800px;\"/>"
   ]
  },
  {
   "cell_type": "code",
   "execution_count": 283,
   "metadata": {},
   "outputs": [
    {
     "name": "stdout",
     "output_type": "stream",
     "text": [
      "The average medical cost per patient is US$34566.63.\n"
     ]
    }
   ],
   "source": [
    "med_per_patient = (1524570 + 20708 + 41810 + 2977) / 46\n",
    "print(f\"The average medical cost per patient is US${round(med_per_patient,2)}.\")"
   ]
  },
  {
   "cell_type": "markdown",
   "metadata": {},
   "source": [
    "### 6.5 Cost Benefit Analysis <a class=\"anchor\" id=\"chapter6_5\"></a>"
   ]
  },
  {
   "cell_type": "code",
   "execution_count": 292,
   "metadata": {},
   "outputs": [
    {
     "name": "stdout",
     "output_type": "stream",
     "text": [
      "year\n",
      "2007    189\n",
      "2009     19\n",
      "2011     50\n",
      "2013    199\n",
      "Name: WnvPresent, dtype: int64\n"
     ]
    }
   ],
   "source": [
    "print(train.groupby('year').sum()['WnvPresent']) # Get number of traps with positive virus presence in respective years"
   ]
  },
  {
   "cell_type": "markdown",
   "metadata": {},
   "source": [
    "<img src=\"../assets/cases_year.png\" style=\"width: 800px;\"/>"
   ]
  },
  {
   "cell_type": "code",
   "execution_count": 293,
   "metadata": {},
   "outputs": [
    {
     "name": "stdout",
     "output_type": "stream",
     "text": [
      "Average cases per trap\n",
      "2007: 2.0105820105820107\n",
      "2009: 5.894736842105263\n",
      "2011: 3.16\n",
      "2013: 1.9045226130653266\n",
      "Total: 2.25164113785558\n"
     ]
    }
   ],
   "source": [
    "# Compute average cases per positive trap\n",
    "print(\"Average cases per trap\")\n",
    "print(f\"2007: {380/189}\")\n",
    "print(f\"2009: {112/19}\")\n",
    "print(f\"2011: {158/50}\")\n",
    "print(f\"2013: {379/199}\")\n",
    "print(f\"Total: {1029/457}\")"
   ]
  },
  {
   "cell_type": "markdown",
   "metadata": {},
   "source": [
    "For the purpose of analysis, we will assume 1 positive trap gives rise to 2.25 WNV infections."
   ]
  },
  {
   "cell_type": "code",
   "execution_count": 297,
   "metadata": {},
   "outputs": [],
   "source": [
    "def cba_analysis(fp, fn, tp):\n",
    "    estimated_cases = round((fn + tp) * 2.25,0)\n",
    "    prevented_cases = round(tp*2.25,0)\n",
    "    infected_cases = estimated_cases - prevented_cases\n",
    "    total_sprays = fp+tp\n",
    "    \n",
    "    total_cost = (total_sprays*cost_per_trap) + (infected_cases*med_per_patient) + (infected_cases*econ_per_patient)\n",
    "    total_benefit = (prevented_cases*med_per_patient) + (prevented_cases*econ_per_patient)\n",
    "    \n",
    "    cba = total_benefit - total_cost\n",
    "    print(f\"The net benefit is US${round(cba,2)}.\")"
   ]
  },
  {
   "cell_type": "code",
   "execution_count": 303,
   "metadata": {},
   "outputs": [
    {
     "name": "stdout",
     "output_type": "stream",
     "text": [
      "The net benefit is US$-8367788.12.\n"
     ]
    }
   ],
   "source": [
    "# CBA for Bagged Trees\n",
    "cba_analysis(37, 98, 16)"
   ]
  },
  {
   "cell_type": "code",
   "execution_count": 304,
   "metadata": {},
   "outputs": [
    {
     "name": "stdout",
     "output_type": "stream",
     "text": [
      "The net benefit is US$-10834881.85.\n"
     ]
    }
   ],
   "source": [
    "# CBA for Random Forest\n",
    "cba_analysis(1, 113, 1)"
   ]
  },
  {
   "cell_type": "markdown",
   "metadata": {},
   "source": [
    "### 6.6 Conclusion <a class=\"anchor\" id=\"chapter6_6\"></a>\n",
    "\n",
    "Based on the cost benefit analysis, although `Random Forest` as a model does better at prediction, `Bagged Trees` actually produces a better cost benefit analysis. This is because it has a lot less false negatives (predicted as no virus but has the virus) which helps reduce the economic impact suffered due to the number of infections. Furthermore, in the case of a virus that is easily spreadible, control of the spread is extremely important as the rise of cases will increase exponentially. Therefore, the model that minimises false negatives ultimately provides the best societal benefits."
   ]
  },
  {
   "cell_type": "markdown",
   "metadata": {},
   "source": [
    "## 7. Key Takeaways and Recommendations <a class=\"anchor\" id=\"chapter7\"></a>\n",
    "---\n"
   ]
  },
  {
   "cell_type": "markdown",
   "metadata": {},
   "source": [
    "Based on the results above, `Random Forests` performed the best at predicting on the Kaggle data set with the highest ROC AUC score. Intuitively, we should use `Random Forests` as our production model for best identifying the presence of WNV.\n",
    "\n",
    "However, a key consideration is also to optimise resources. From the results of our cost benefit analysis, we found that `Bagged Trees` best minimised the impact of the virus to the economy, based on the assumptions taken. This is because `Bagged Trees` minimised the number of false negatives. Therefore, the final recommendation for the production model would be `Bagged Trees`, based on the hyperparameters listed above."
   ]
  }
 ],
 "metadata": {
  "kernelspec": {
   "display_name": "Python 3",
   "language": "python",
   "name": "python3"
  },
  "language_info": {
   "codemirror_mode": {
    "name": "ipython",
    "version": 3
   },
   "file_extension": ".py",
   "mimetype": "text/x-python",
   "name": "python",
   "nbconvert_exporter": "python",
   "pygments_lexer": "ipython3",
   "version": "3.8.3"
  }
 },
 "nbformat": 4,
 "nbformat_minor": 4
}
